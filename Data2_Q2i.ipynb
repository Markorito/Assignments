{
 "cells": [
  {
   "cell_type": "code",
   "execution_count": 1,
   "id": "68c835fc",
   "metadata": {},
   "outputs": [],
   "source": [
    "from xml.etree.ElementTree import Element, SubElement"
   ]
  },
  {
   "cell_type": "code",
   "execution_count": 2,
   "id": "768833f3",
   "metadata": {},
   "outputs": [
    {
     "name": "stdout",
     "output_type": "stream",
     "text": [
      "<Menu type=\"bfast\"><BF><BF /><preparation_time /><free_kids /></BF></Menu>\n"
     ]
    }
   ],
   "source": [
    "#Writing the XML file using xml.etree\n",
    "ABC_Cafe = Element('ABC_Cafe')\n",
    "\n",
    "Food = SubElement(ABC_Cafe, 'Food')\n",
    "\n",
    "Menu = SubElement(Food, 'Menu')\n",
    "extra_1 = SubElement(Food, 'extra_1')\n",
    "extra_2 = SubElement(Food, 'extra_2')\n",
    "\n",
    "served_with = SubElement(extra_1, 'served_with')\n",
    "\n",
    "BF = SubElement(Menu, 'BF')\n",
    "\n",
    "price = SubElement(BF, 'BF')\n",
    "preparation_time = SubElement(BF, 'preparation_time')\n",
    "free_kids = SubElement(BF, 'free_kids')\n",
    "\n",
    "Menu.set('type', 'bfast')\n",
    "ET.dump(Menu)\n",
    "\n",
    "BF.set('origin', 'English')\n",
    "BF.set('origin', 'Hot English')\n"
   ]
  }
 ],
 "metadata": {
  "kernelspec": {
   "display_name": "Python 3 (ipykernel)",
   "language": "python",
   "name": "python3"
  },
  "language_info": {
   "codemirror_mode": {
    "name": "ipython",
    "version": 3
   },
   "file_extension": ".py",
   "mimetype": "text/x-python",
   "name": "python",
   "nbconvert_exporter": "python",
   "pygments_lexer": "ipython3",
   "version": "3.8.5"
  }
 },
 "nbformat": 4,
 "nbformat_minor": 5
}
