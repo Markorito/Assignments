{
 "cells": [
  {
   "cell_type": "code",
   "execution_count": 1,
   "id": "97bdab42",
   "metadata": {},
   "outputs": [],
   "source": [
    "import xml.etree.ElementTree as ET"
   ]
  },
  {
   "cell_type": "code",
   "execution_count": 2,
   "id": "48f7b392",
   "metadata": {},
   "outputs": [
    {
     "name": "stdout",
     "output_type": "stream",
     "text": [
      "ABC_Cafe\n",
      "{}\n"
     ]
    }
   ],
   "source": [
    "#Reading and displaying the root\n",
    "tree = ET.parse('breakfast.xml')\n",
    "root = tree.getroot()\n",
    "print(root.tag)\n",
    "print(root.attrib)"
   ]
  },
  {
   "cell_type": "code",
   "execution_count": 3,
   "id": "b2baede3",
   "metadata": {},
   "outputs": [
    {
     "name": "stdout",
     "output_type": "stream",
     "text": [
      "age under 11\n"
     ]
    }
   ],
   "source": [
    "#Displaying text content from tag free kids\n",
    "for kid in root.iter('free_kids'):\n",
    "    print(kid.text)"
   ]
  },
  {
   "cell_type": "code",
   "execution_count": 5,
   "id": "c00d17d6",
   "metadata": {},
   "outputs": [],
   "source": [
    "#Changing sourdough bread to harrods roquefort bread\n",
    "for served in root.iter('served_with'):\n",
    "    served.text = 'roquefort bread'\n",
    "tree.write('breakfast.xml')"
   ]
  },
  {
   "cell_type": "code",
   "execution_count": 6,
   "id": "0cec726a",
   "metadata": {},
   "outputs": [
    {
     "name": "stdout",
     "output_type": "stream",
     "text": [
      "roquefort bread\n"
     ]
    }
   ],
   "source": [
    "#Displaying the changes\n",
    "for served in root.iter('served_with'):\n",
    "    print(served.text)"
   ]
  },
  {
   "cell_type": "code",
   "execution_count": null,
   "id": "d6a31a5c",
   "metadata": {},
   "outputs": [],
   "source": []
  }
 ],
 "metadata": {
  "kernelspec": {
   "display_name": "Python 3 (ipykernel)",
   "language": "python",
   "name": "python3"
  },
  "language_info": {
   "codemirror_mode": {
    "name": "ipython",
    "version": 3
   },
   "file_extension": ".py",
   "mimetype": "text/x-python",
   "name": "python",
   "nbconvert_exporter": "python",
   "pygments_lexer": "ipython3",
   "version": "3.8.5"
  }
 },
 "nbformat": 4,
 "nbformat_minor": 5
}
